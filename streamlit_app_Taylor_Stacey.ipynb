{
 "cells": [
  {
   "cell_type": "markdown",
   "id": "4c1ee612",
   "metadata": {},
   "source": [
    "# Streamlit App Generation"
   ]
  },
  {
   "cell_type": "markdown",
   "id": "528ee83e",
   "metadata": {},
   "source": [
    "# Taylor Stacey"
   ]
  },
  {
   "cell_type": "code",
   "execution_count": 1,
   "id": "a6bd8521",
   "metadata": {},
   "outputs": [
    {
     "name": "stdout",
     "output_type": "stream",
     "text": [
      "Requirement already satisfied: streamlit in /Users/taylorstacey/anaconda3/lib/python3.10/site-packages (1.31.1)\n",
      "Requirement already satisfied: langchain in /Users/taylorstacey/anaconda3/lib/python3.10/site-packages (0.1.10)\n",
      "Requirement already satisfied: openai in /Users/taylorstacey/anaconda3/lib/python3.10/site-packages (1.13.3)\n",
      "Requirement already satisfied: altair<6,>=4.0 in /Users/taylorstacey/anaconda3/lib/python3.10/site-packages (from streamlit) (5.2.0)\n",
      "Requirement already satisfied: blinker<2,>=1.0.0 in /Users/taylorstacey/anaconda3/lib/python3.10/site-packages (from streamlit) (1.7.0)\n",
      "Requirement already satisfied: pydeck<1,>=0.8.0b4 in /Users/taylorstacey/anaconda3/lib/python3.10/site-packages (from streamlit) (0.8.1b0)\n",
      "Requirement already satisfied: tenacity<9,>=8.1.0 in /Users/taylorstacey/anaconda3/lib/python3.10/site-packages (from streamlit) (8.2.3)\n",
      "Requirement already satisfied: cachetools<6,>=4.0 in /Users/taylorstacey/anaconda3/lib/python3.10/site-packages (from streamlit) (5.3.3)\n",
      "Requirement already satisfied: rich<14,>=10.14.0 in /Users/taylorstacey/anaconda3/lib/python3.10/site-packages (from streamlit) (13.7.1)\n",
      "Requirement already satisfied: requests<3,>=2.27 in /Users/taylorstacey/anaconda3/lib/python3.10/site-packages (from streamlit) (2.28.1)\n",
      "Requirement already satisfied: click<9,>=7.0 in /Users/taylorstacey/anaconda3/lib/python3.10/site-packages (from streamlit) (8.0.4)\n",
      "Requirement already satisfied: packaging<24,>=16.8 in /Users/taylorstacey/anaconda3/lib/python3.10/site-packages (from streamlit) (23.2)\n",
      "Requirement already satisfied: pillow<11,>=7.1.0 in /Users/taylorstacey/anaconda3/lib/python3.10/site-packages (from streamlit) (10.1.0)\n",
      "Requirement already satisfied: tornado<7,>=6.0.3 in /Users/taylorstacey/anaconda3/lib/python3.10/site-packages (from streamlit) (6.1)\n",
      "Requirement already satisfied: importlib-metadata<8,>=1.4 in /Users/taylorstacey/anaconda3/lib/python3.10/site-packages (from streamlit) (4.11.3)\n",
      "Requirement already satisfied: validators<1,>=0.2 in /Users/taylorstacey/anaconda3/lib/python3.10/site-packages (from streamlit) (0.22.0)\n",
      "Requirement already satisfied: toml<2,>=0.10.1 in /Users/taylorstacey/anaconda3/lib/python3.10/site-packages (from streamlit) (0.10.2)\n",
      "Requirement already satisfied: numpy<2,>=1.19.3 in /Users/taylorstacey/anaconda3/lib/python3.10/site-packages (from streamlit) (1.24.0)\n",
      "Requirement already satisfied: pyarrow>=7.0 in /Users/taylorstacey/anaconda3/lib/python3.10/site-packages (from streamlit) (15.0.0)\n",
      "Requirement already satisfied: pandas<3,>=1.3.0 in /Users/taylorstacey/anaconda3/lib/python3.10/site-packages (from streamlit) (1.5.3)\n",
      "Requirement already satisfied: protobuf<5,>=3.20 in /Users/taylorstacey/anaconda3/lib/python3.10/site-packages (from streamlit) (4.25.3)\n",
      "Requirement already satisfied: tzlocal<6,>=1.1 in /Users/taylorstacey/anaconda3/lib/python3.10/site-packages (from streamlit) (5.2)\n",
      "Requirement already satisfied: gitpython!=3.1.19,<4,>=3.0.7 in /Users/taylorstacey/anaconda3/lib/python3.10/site-packages (from streamlit) (3.1.42)\n",
      "Requirement already satisfied: python-dateutil<3,>=2.7.3 in /Users/taylorstacey/anaconda3/lib/python3.10/site-packages (from streamlit) (2.8.2)\n",
      "Requirement already satisfied: typing-extensions<5,>=4.3.0 in /Users/taylorstacey/anaconda3/lib/python3.10/site-packages (from streamlit) (4.10.0)\n",
      "Requirement already satisfied: langsmith<0.2.0,>=0.1.0 in /Users/taylorstacey/anaconda3/lib/python3.10/site-packages (from langchain) (0.1.13)\n",
      "Requirement already satisfied: aiohttp<4.0.0,>=3.8.3 in /Users/taylorstacey/anaconda3/lib/python3.10/site-packages (from langchain) (3.9.3)\n",
      "Requirement already satisfied: PyYAML>=5.3 in /Users/taylorstacey/anaconda3/lib/python3.10/site-packages (from langchain) (6.0)\n",
      "Requirement already satisfied: dataclasses-json<0.7,>=0.5.7 in /Users/taylorstacey/anaconda3/lib/python3.10/site-packages (from langchain) (0.6.4)\n",
      "Requirement already satisfied: jsonpatch<2.0,>=1.33 in /Users/taylorstacey/anaconda3/lib/python3.10/site-packages (from langchain) (1.33)\n",
      "Requirement already satisfied: async-timeout<5.0.0,>=4.0.0 in /Users/taylorstacey/anaconda3/lib/python3.10/site-packages (from langchain) (4.0.3)\n",
      "Requirement already satisfied: pydantic<3,>=1 in /Users/taylorstacey/anaconda3/lib/python3.10/site-packages (from langchain) (1.10.12)\n",
      "Requirement already satisfied: langchain-community<0.1,>=0.0.25 in /Users/taylorstacey/anaconda3/lib/python3.10/site-packages (from langchain) (0.0.25)\n",
      "Requirement already satisfied: SQLAlchemy<3,>=1.4 in /Users/taylorstacey/anaconda3/lib/python3.10/site-packages (from langchain) (1.4.39)\n",
      "Requirement already satisfied: langchain-text-splitters<0.1,>=0.0.1 in /Users/taylorstacey/anaconda3/lib/python3.10/site-packages (from langchain) (0.0.1)\n",
      "Requirement already satisfied: langchain-core<0.2,>=0.1.28 in /Users/taylorstacey/anaconda3/lib/python3.10/site-packages (from langchain) (0.1.28)\n",
      "Requirement already satisfied: tqdm>4 in /Users/taylorstacey/anaconda3/lib/python3.10/site-packages (from openai) (4.64.1)\n",
      "Requirement already satisfied: sniffio in /Users/taylorstacey/anaconda3/lib/python3.10/site-packages (from openai) (1.2.0)\n",
      "Requirement already satisfied: httpx<1,>=0.23.0 in /Users/taylorstacey/anaconda3/lib/python3.10/site-packages (from openai) (0.27.0)\n",
      "Requirement already satisfied: distro<2,>=1.7.0 in /Users/taylorstacey/anaconda3/lib/python3.10/site-packages (from openai) (1.9.0)\n",
      "Requirement already satisfied: anyio<5,>=3.5.0 in /Users/taylorstacey/anaconda3/lib/python3.10/site-packages (from openai) (3.5.0)\n",
      "Requirement already satisfied: yarl<2.0,>=1.0 in /Users/taylorstacey/anaconda3/lib/python3.10/site-packages (from aiohttp<4.0.0,>=3.8.3->langchain) (1.9.4)\n",
      "Requirement already satisfied: aiosignal>=1.1.2 in /Users/taylorstacey/anaconda3/lib/python3.10/site-packages (from aiohttp<4.0.0,>=3.8.3->langchain) (1.3.1)\n",
      "Requirement already satisfied: frozenlist>=1.1.1 in /Users/taylorstacey/anaconda3/lib/python3.10/site-packages (from aiohttp<4.0.0,>=3.8.3->langchain) (1.4.1)\n",
      "Requirement already satisfied: attrs>=17.3.0 in /Users/taylorstacey/anaconda3/lib/python3.10/site-packages (from aiohttp<4.0.0,>=3.8.3->langchain) (22.1.0)\n",
      "Requirement already satisfied: multidict<7.0,>=4.5 in /Users/taylorstacey/anaconda3/lib/python3.10/site-packages (from aiohttp<4.0.0,>=3.8.3->langchain) (6.0.5)\n",
      "Requirement already satisfied: jinja2 in /Users/taylorstacey/anaconda3/lib/python3.10/site-packages (from altair<6,>=4.0->streamlit) (3.1.2)\n",
      "Requirement already satisfied: toolz in /Users/taylorstacey/anaconda3/lib/python3.10/site-packages (from altair<6,>=4.0->streamlit) (0.12.0)\n",
      "Requirement already satisfied: jsonschema>=3.0 in /Users/taylorstacey/anaconda3/lib/python3.10/site-packages (from altair<6,>=4.0->streamlit) (4.17.3)\n",
      "Requirement already satisfied: idna>=2.8 in /Users/taylorstacey/anaconda3/lib/python3.10/site-packages (from anyio<5,>=3.5.0->openai) (3.4)\n",
      "Requirement already satisfied: typing-inspect<1,>=0.4.0 in /Users/taylorstacey/anaconda3/lib/python3.10/site-packages (from dataclasses-json<0.7,>=0.5.7->langchain) (0.9.0)\n",
      "Requirement already satisfied: marshmallow<4.0.0,>=3.18.0 in /Users/taylorstacey/anaconda3/lib/python3.10/site-packages (from dataclasses-json<0.7,>=0.5.7->langchain) (3.21.0)\n",
      "Requirement already satisfied: gitdb<5,>=4.0.1 in /Users/taylorstacey/anaconda3/lib/python3.10/site-packages (from gitpython!=3.1.19,<4,>=3.0.7->streamlit) (4.0.11)\n",
      "Requirement already satisfied: certifi in /Users/taylorstacey/anaconda3/lib/python3.10/site-packages (from httpx<1,>=0.23.0->openai) (2023.7.22)\n",
      "Requirement already satisfied: httpcore==1.* in /Users/taylorstacey/anaconda3/lib/python3.10/site-packages (from httpx<1,>=0.23.0->openai) (1.0.4)\n",
      "Requirement already satisfied: h11<0.15,>=0.13 in /Users/taylorstacey/anaconda3/lib/python3.10/site-packages (from httpcore==1.*->httpx<1,>=0.23.0->openai) (0.14.0)\n",
      "Requirement already satisfied: zipp>=0.5 in /Users/taylorstacey/anaconda3/lib/python3.10/site-packages (from importlib-metadata<8,>=1.4->streamlit) (3.11.0)\n",
      "Requirement already satisfied: jsonpointer>=1.9 in /Users/taylorstacey/anaconda3/lib/python3.10/site-packages (from jsonpatch<2.0,>=1.33->langchain) (2.1)\n"
     ]
    },
    {
     "name": "stdout",
     "output_type": "stream",
     "text": [
      "Requirement already satisfied: orjson<4.0.0,>=3.9.14 in /Users/taylorstacey/anaconda3/lib/python3.10/site-packages (from langsmith<0.2.0,>=0.1.0->langchain) (3.9.15)\n",
      "Requirement already satisfied: pytz>=2020.1 in /Users/taylorstacey/anaconda3/lib/python3.10/site-packages (from pandas<3,>=1.3.0->streamlit) (2022.7)\n",
      "Requirement already satisfied: six>=1.5 in /Users/taylorstacey/anaconda3/lib/python3.10/site-packages (from python-dateutil<3,>=2.7.3->streamlit) (1.16.0)\n",
      "Requirement already satisfied: urllib3<1.27,>=1.21.1 in /Users/taylorstacey/anaconda3/lib/python3.10/site-packages (from requests<3,>=2.27->streamlit) (1.26.14)\n",
      "Requirement already satisfied: charset-normalizer<3,>=2 in /Users/taylorstacey/anaconda3/lib/python3.10/site-packages (from requests<3,>=2.27->streamlit) (2.0.4)\n",
      "Requirement already satisfied: pygments<3.0.0,>=2.13.0 in /Users/taylorstacey/anaconda3/lib/python3.10/site-packages (from rich<14,>=10.14.0->streamlit) (2.17.2)\n",
      "Requirement already satisfied: markdown-it-py>=2.2.0 in /Users/taylorstacey/anaconda3/lib/python3.10/site-packages (from rich<14,>=10.14.0->streamlit) (3.0.0)\n",
      "Requirement already satisfied: smmap<6,>=3.0.1 in /Users/taylorstacey/anaconda3/lib/python3.10/site-packages (from gitdb<5,>=4.0.1->gitpython!=3.1.19,<4,>=3.0.7->streamlit) (5.0.1)\n",
      "Requirement already satisfied: MarkupSafe>=2.0 in /Users/taylorstacey/anaconda3/lib/python3.10/site-packages (from jinja2->altair<6,>=4.0->streamlit) (2.1.1)\n",
      "Requirement already satisfied: pyrsistent!=0.17.0,!=0.17.1,!=0.17.2,>=0.14.0 in /Users/taylorstacey/anaconda3/lib/python3.10/site-packages (from jsonschema>=3.0->altair<6,>=4.0->streamlit) (0.18.0)\n",
      "Requirement already satisfied: mdurl~=0.1 in /Users/taylorstacey/anaconda3/lib/python3.10/site-packages (from markdown-it-py>=2.2.0->rich<14,>=10.14.0->streamlit) (0.1.2)\n",
      "Requirement already satisfied: mypy-extensions>=0.3.0 in /Users/taylorstacey/anaconda3/lib/python3.10/site-packages (from typing-inspect<1,>=0.4.0->dataclasses-json<0.7,>=0.5.7->langchain) (0.4.3)\n",
      "Note: you may need to restart the kernel to use updated packages.\n"
     ]
    }
   ],
   "source": [
    "pip install streamlit langchain openai"
   ]
  },
  {
   "cell_type": "code",
   "execution_count": 3,
   "id": "dc6a4ee4",
   "metadata": {},
   "outputs": [],
   "source": [
    "import streamlit as st\n",
    "from langchain.llms import OpenAI"
   ]
  },
  {
   "cell_type": "code",
   "execution_count": 4,
   "id": "9188b0fb",
   "metadata": {},
   "outputs": [
    {
     "data": {
      "text/plain": [
       "DeltaGenerator(_form_data=FormData(form_id='my_form'))"
      ]
     },
     "execution_count": 4,
     "metadata": {},
     "output_type": "execute_result"
    }
   ],
   "source": [
    "st.image('DSU_Logo.png', width=100)\n",
    "st.title('🦜🔗 Quickstart App')"
   ]
  },
  {
   "cell_type": "code",
   "execution_count": 5,
   "id": "f6cbbca1",
   "metadata": {},
   "outputs": [],
   "source": [
    "openai_api_key = st.sidebar.text_input('OpenAI API Key')"
   ]
  },
  {
   "cell_type": "code",
   "execution_count": 6,
   "id": "f0fe9310",
   "metadata": {},
   "outputs": [],
   "source": [
    "def generate_response(input_text):\n",
    "  llm = OpenAI(temperature=0.7, openai_api_key=openai_api_key)\n",
    "  st.info(llm(input_text))"
   ]
  },
  {
   "cell_type": "code",
   "execution_count": 7,
   "id": "d3a7062a",
   "metadata": {},
   "outputs": [],
   "source": [
    "with st.form('my_form'):\n",
    "  text = st.text_area('Enter text:', 'What are the three key pieces of advice for learning how to code?')\n",
    "  submitted = st.form_submit_button('Submit')\n",
    "  if not openai_api_key.startswith('sk-'):\n",
    "    st.warning('Please enter your OpenAI API key!', icon='⚠')\n",
    "  if submitted and openai_api_key.startswith('sk-'):\n",
    "    generate_response(text)"
   ]
  }
 ],
 "metadata": {
  "kernelspec": {
   "display_name": "Python 3 (ipykernel)",
   "language": "python",
   "name": "python3"
  },
  "language_info": {
   "codemirror_mode": {
    "name": "ipython",
    "version": 3
   },
   "file_extension": ".py",
   "mimetype": "text/x-python",
   "name": "python",
   "nbconvert_exporter": "python",
   "pygments_lexer": "ipython3",
   "version": "3.10.9"
  }
 },
 "nbformat": 4,
 "nbformat_minor": 5
}
